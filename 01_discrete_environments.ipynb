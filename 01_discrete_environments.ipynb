{
 "cells": [
  {
   "metadata": {},
   "cell_type": "markdown",
   "source": "# Discrete Environments",
   "id": "beb0fa495bb8cbdc"
  },
  {
   "metadata": {},
   "cell_type": "markdown",
   "source": "## Libraries used in Notebook",
   "id": "33e8134f3f2e373f"
  },
  {
   "metadata": {
    "ExecuteTime": {
     "end_time": "2025-06-09T09:42:52.194659Z",
     "start_time": "2025-06-09T09:42:51.419614Z"
    }
   },
   "cell_type": "code",
   "source": [
    "import gymnasium as gym\n",
    "import numpy as np\n",
    "import cv2\n",
    "import matplotlib.pyplot as plt"
   ],
   "id": "443462ff333e53d2",
   "outputs": [],
   "execution_count": 1
  },
  {
   "metadata": {},
   "cell_type": "markdown",
   "source": [
    "## Introduction to Gymnasium\n",
    "[Gymnasium](https://gymnasium.farama.org/) is a Python library designed to provide standardized environments for developing and testing reinforcement learning algorithms. It offers a simple and consistent API that allows agents to interact with a wide variety of environments, from basic grid-based simulations to complex physics-driven tasks.\n",
    "\n",
    "Each environment in Gymnasium follows a standard interface:\n",
    "\n",
    "- `env.reset()` initialized the environment and returns the initial observation.\n",
    "- `env.step(action)` takes an action and returns a tuple: **observation**, **reward**, **terminated**, **truncated**, and **info**.\n",
    "\n",
    "Here's a minimal example of using a Gymnasium environment:"
   ],
   "id": "9f146bbf3a4e84b9"
  },
  {
   "cell_type": "code",
   "id": "initial_id",
   "metadata": {
    "collapsed": true,
    "ExecuteTime": {
     "end_time": "2025-06-09T09:42:52.225944Z",
     "start_time": "2025-06-09T09:42:52.203553Z"
    }
   },
   "source": [
    "env = gym.make(\"Taxi-v3\")\n",
    "observation, info = env.reset()\n",
    "\n",
    "for _ in range(100):\n",
    "    action = env.action_space.sample()  # take random action\n",
    "    observation, reward, terminated, truncated, info = env.step(action)\n",
    "\n",
    "    if terminated or truncated:\n",
    "        observation, info = env.reset()\n",
    "\n",
    "env.close()"
   ],
   "outputs": [],
   "execution_count": 2
  },
  {
   "metadata": {},
   "cell_type": "markdown",
   "source": [
    "### Code overview\n",
    "We begin by creating the environment with `gym.make(\"Taxi-v3\")`. In this game the agent must pick up passengers and drop them off at one of four locations.\n",
    "\n",
    "We then call `env.reset()` to initialize the environment and get the initial state.\n",
    "\n",
    "The interaction between agent and environment happens in a loop. At each timestep, the agent chooses as action - here randomly using `env.action_space.sample()` - and passes it to `env.step(action)`. This function returns:\n",
    "- the next state,\n",
    "- a reward,\n",
    "- and two flags: `terminated` (episode ended by success or failure) and `truncated` (time or step limit reached).\n",
    "\n",
    "If either flag is `True`, the episode ands anf the environment is reset with `env.reset()`."
   ],
   "id": "934824de4de2e084"
  },
  {
   "metadata": {},
   "cell_type": "markdown",
   "source": "Gymnasium is part of the [Farama Foundation](https://farama.org/) ecosystem and is actively maintained as a successor to the original OpenAI Gym.",
   "id": "f11b4aaac58a79ef"
  },
  {
   "metadata": {},
   "cell_type": "markdown",
   "source": [
    "## Q-learning Algorithm\n",
    "\n",
    "Q-learning is one of the most popular reinforcement learning algorithms. Its main goal is to learn a **Q-value function**, $Q(s, a)$, which estimates the expected reward an agent can obtain by taking an action $a$ in a state $s$, and then following the optimal policy from there on.\n",
    "\n",
    "In this project, we use the classic table-based version of Q-learning, where the Q-values are stored in a **lookup table**. This approach works well when the state and action spaces are **discrete and finite**, as is the case in environments like FrozenLake.\n",
    "\n",
    "### Q-learning update rule\n",
    "\n",
    "At each step of the learning process, the Q-value is updated using the **Bellman equation**, modified for Q-learning:\n",
    "\n",
    "$$\n",
    "Q(s, a) \\leftarrow (1 - \\alpha) \\cdot Q(s, a) + \\alpha \\cdot \\left[ r + \\gamma \\cdot \\max_{a'} Q(s', a') \\right]\n",
    "$$\n",
    "\n",
    "#### Where:\n",
    "- $s$ - current state\n",
    "- $a$ - action taken by the agent\n",
    "- $r$ - reward received after taking action $a$ in state $s$\n",
    "- $s'$ - next state\n",
    "- $\\alpha$ - learning rate (how quickly we update our knowledge)\n",
    "- $\\gamma$ - discount factor (how much we value future rewards)\n",
    "- $\\max_{a'} Q(s', a')$ - estimated best future reward from state $s'$\n",
    "\n",
    "The discount factor $\\gamma$ (between 0 and 1) determines the importance of future rewards:\n",
    "- $\\gamma \\approx 0$: short-term focus\n",
    "- $\\gamma \\approx 1$: long-term planning\n"
   ],
   "id": "50e8094bdbe4d73e"
  },
  {
   "metadata": {},
   "cell_type": "markdown",
   "source": "### Implementing the Q-learning Algorithm",
   "id": "3cc3d86faa74b99e"
  },
  {
   "metadata": {
    "ExecuteTime": {
     "end_time": "2025-06-09T09:42:55.305039Z",
     "start_time": "2025-06-09T09:42:52.430153Z"
    }
   },
   "cell_type": "code",
   "source": [
    "env = gym.make(\"Taxi-v3\", render_mode=\"rgb_array\")\n",
    "\n",
    "discount_factor = 0.9\n",
    "learning_rate = 0.9\n",
    "episodes = 10000\n",
    "epsilon = 0.1\n",
    "q_table = np.zeros((env.observation_space.n, env.action_space.n))\n",
    "episode_rewards = []\n",
    "\n",
    "for episode in range(episodes):\n",
    "    state, _ = env.reset()\n",
    "    terminated = False\n",
    "    truncated = False\n",
    "    total_reward = 0\n",
    "    while not terminated and not truncated:\n",
    "        action = np.argmax(q_table[state,:])\n",
    "\n",
    "        new_state, reward, terminated, truncated, info = env.step(action)\n",
    "        total_reward += reward\n",
    "\n",
    "        # bellman equation\n",
    "        q_table[state, action] = (\n",
    "                (1 - learning_rate) * q_table[state, action] +\n",
    "                learning_rate * (reward + discount_factor * np.max(q_table[new_state, :])))\n",
    "\n",
    "        state = new_state\n",
    "    episode_rewards.append(total_reward)\n",
    "env.close()"
   ],
   "id": "a46a278a0f922a36",
   "outputs": [],
   "execution_count": 3
  },
  {
   "metadata": {},
   "cell_type": "markdown",
   "source": [
    "### Code overview\n",
    "\n",
    "1. The environment is reset at the start of each episode.\n",
    "2. At every step, the agent selects an action using a **greedy policy**:\n",
    "   `action = np.argmax(q_table[state, :])`\n",
    "3. The environment responds with the next state, a reward, and a signal indicating whether the episode has ended.\n",
    "4. The Q-value is updated using the Q-learning rule:\n",
    "\n",
    "   $$\n",
    "   Q(s, a) \\leftarrow (1 - \\alpha) \\cdot Q(s, a) + \\alpha \\cdot \\left[ r + \\gamma \\cdot \\max_{a'} Q(s', a') \\right]\n",
    "   $$\n",
    "\n",
    "5. The total reward for each episode is stored for later analysis.\n",
    "6. After training, the environment is closed with `env.close()`.\n",
    "\n",
    "### Greedy policy vs $\\epsilon$-greedy policy\n",
    "\n",
    "In RL two learning stages can be differentiated - **exploration** and **exploitation**. Exploitation is choosing the current best-known move based on previous knowledge when exploration is trying to reach new, unknown states that might not be optimal in order to find a new, possibly better strategy.\n",
    "\n",
    "In the example above we used `action = np.argmax(q_table[state,:])` - pure exploitation - which might lead to getting stuck in suboptimal paths and never discovering more rewarding states.\n",
    "\n",
    "An alternative for this is **$\\epsilon$-greedy exploration** where a small randomness is introduced:\n",
    "\n",
    "```python\n",
    "epsilon = 0.1  # explore 10% of the time\n",
    "\n",
    "if np.random.uniform(0, 1) < epsilon:\n",
    "    action = env.action_space.sample()  # random action (explore)\n",
    "else:\n",
    "    action = np.argmax(q_table[state, :])  # best action (exploit)\n",
    "```"
   ],
   "id": "93fcacd07a7cc296"
  },
  {
   "metadata": {},
   "cell_type": "markdown",
   "source": "## Running the Trained Model",
   "id": "83560b73be8796ed"
  },
  {
   "metadata": {
    "ExecuteTime": {
     "end_time": "2025-06-09T09:42:59.820757Z",
     "start_time": "2025-06-09T09:42:55.323395Z"
    }
   },
   "cell_type": "code",
   "source": [
    "state, _ = env.reset()\n",
    "terminated = False\n",
    "truncated = False\n",
    "rewards = 0\n",
    "while not terminated and not truncated:\n",
    "    action = np.argmax(q_table[state,:])\n",
    "    state, reward, terminated, truncated, info = env.step(action)\n",
    "    rewards += reward\n",
    "\n",
    "    cv2.imshow('Taxi', cv2.cvtColor(env.render(), cv2.COLOR_RGB2BGR))\n",
    "    cv2.waitKey(250)\n",
    "cv2.destroyAllWindows()"
   ],
   "id": "b267b27807943b06",
   "outputs": [],
   "execution_count": 4
  },
  {
   "metadata": {},
   "cell_type": "markdown",
   "source": [
    "After training, we can demonstrate the agent's performance by running the environment like at the beginning but instead of choosing a random action, the agents now selects the best-known action for the current state using `np.argmax(q_table[state, :])`. This means it chooses the action with the highest Q-value - the one that is expected to lead to the highest long-term reward.\n",
    "\n",
    "Gymnasium allows visualization using `cv2` by setting the `render_mode` to `\"rgb_array\"` when the environment was created.\n"
   ],
   "id": "a42c132fff6043db"
  },
  {
   "metadata": {},
   "cell_type": "markdown",
   "source": [
    "## Evaluating the Model\n",
    "\n",
    "After learning the model can then be later evaluated with plotting a learning curved based on total reward reached in each episode."
   ],
   "id": "5dba3fedcb27472e"
  },
  {
   "metadata": {
    "ExecuteTime": {
     "end_time": "2025-06-09T09:43:00.081542Z",
     "start_time": "2025-06-09T09:42:59.839402Z"
    }
   },
   "cell_type": "code",
   "source": [
    "plt.figure(figsize=(10, 6))\n",
    "plt.plot(episode_rewards)\n",
    "plt.xlabel('Episode')\n",
    "plt.ylabel('Reward')\n",
    "plt.grid()\n",
    "plt.title('Taxi learning curve')"
   ],
   "id": "280a744d37775976",
   "outputs": [
    {
     "data": {
      "text/plain": [
       "Text(0.5, 1.0, 'Taxi learning curve')"
      ]
     },
     "execution_count": 5,
     "metadata": {},
     "output_type": "execute_result"
    },
    {
     "data": {
      "text/plain": [
       "<Figure size 1000x600 with 1 Axes>"
      ],
      "image/png": "[encoded data removed]"
     },
     "metadata": {},
     "output_type": "display_data"
    }
   ],
   "execution_count": 5
  },
  {
   "metadata": {},
   "cell_type": "markdown",
   "source": [
    "## Sources\n",
    "- https://spinningup.openai.com/en/latest/spinningup/rl_intro2.html\n",
    "- https://gymnasium.farama.org/index.html"
   ],
   "id": "4e6de0def3f2d355"
  }
 ],
 "metadata": {
  "kernelspec": {
   "display_name": "Python 3",
   "language": "python",
   "name": "python3"
  },
  "language_info": {
   "codemirror_mode": {
    "name": "ipython",
    "version": 2
   },
   "file_extension": ".py",
   "mimetype": "text/x-python",
   "name": "python",
   "nbconvert_exporter": "python",
   "pygments_lexer": "ipython2",
   "version": "2.7.6"
  }
 },
 "nbformat": 4,
 "nbformat_minor": 5
}
