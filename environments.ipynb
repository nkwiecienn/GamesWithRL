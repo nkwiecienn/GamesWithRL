{
 "cells": [
  {
   "metadata": {
    "ExecuteTime": {
     "end_time": "2025-05-27T15:09:10.813750Z",
     "start_time": "2025-05-27T15:09:10.579199Z"
    }
   },
   "cell_type": "code",
   "source": [
    "import random\n",
    "from os import truncate\n",
    "from typing import Optional\n",
    "import gymnasium as gym\n",
    "import cv2\n",
    "import numpy as np\n",
    "from carcassone.carcassonne.carcassonne_game import CarcassonneGame\n",
    "from carcassone.carcassonne.objects.actions.action import Action\n",
    "from carcassone.carcassonne.tile_sets.supplementary_rules import SupplementaryRule\n",
    "from carcassone.carcassonne.tile_sets.tile_sets import TileSet"
   ],
   "id": "b2fca6eb363d9a8c",
   "outputs": [],
   "execution_count": 3
  },
  {
   "metadata": {},
   "cell_type": "markdown",
   "source": [
    "# Środowiska\n",
    "W ramach projektu zdecydowaliśmy się na wykorzystanie trzech środowisk o różnym stopniu trudności:\n",
    "- udostępnionego przez OpenAI środowiska LunarLander;\n",
    "- gry mobilnej 2048;\n",
    "- gry planszowej Carcassone."
   ],
   "id": "bf14a278be95f359"
  },
  {
   "metadata": {},
   "cell_type": "markdown",
   "source": [
    "## Lunar Lander\n",
    "Lunar Lander to udostępnione przez OpenAI środowisko do optymalizacji trajektorii rakiety. Będzie ono dla nas środowiskiem testowym, ze względu na to, że jest dobrze znane i sprawdzone.\n",
    "\n",
    "![](https://www.gymlibrary.dev/_images/lunar_lander.gif)\n",
    "\n",
    "Źródła:\n",
    "- https://www.gymlibrary.dev/environments/box2d/lunar_lander/"
   ],
   "id": "2bba92510af7028c"
  },
  {
   "metadata": {},
   "cell_type": "markdown",
   "source": "### Przykład użycia\n",
   "id": "c6318f2c907bd137"
  },
  {
   "metadata": {
    "ExecuteTime": {
     "end_time": "2025-05-27T15:04:52.341264Z",
     "start_time": "2025-05-27T15:04:46.933414Z"
    }
   },
   "cell_type": "code",
   "source": [
    "env = gym.make(\n",
    "    \"LunarLander-v3\",\n",
    "    continuous = False,\n",
    "    gravity = -10.0,\n",
    "    enable_wind = False,\n",
    "    wind_power = 15.0,\n",
    "    turbulence_power = 1.5,\n",
    "    render_mode=\"rgb_array\"\n",
    ")\n",
    "\n",
    "state, _ = env.reset()\n",
    "terminated = False\n",
    "truncated = False\n",
    "\n",
    "while not (terminated or truncated):\n",
    "    action = env.action_space.sample()\n",
    "    next_state, reward, terminated, truncated, _ = env.step(action)\n",
    "    frame = env.render()\n",
    "    cv2.imshow(\"frame\", cv2.cvtColor(frame, cv2.COLOR_RGB2BGR))\n",
    "    cv2.waitKey(50)\n",
    "\n",
    "cv2.destroyAllWindows()"
   ],
   "id": "cced463af0adbe63",
   "outputs": [],
   "execution_count": 7
  },
  {
   "metadata": {},
   "cell_type": "markdown",
   "source": [
    "## 2048\n",
    "\n",
    "2048 to popularna gra mobilna, polegająca na przesuwaniu i łączeniu liczb w celu uzyskania klocka 2048.\n",
    "\n",
    "![](https://upload.wikimedia.org/wikipedia/commons/6/64/2048_Screenshot.png)\n",
    "\n",
    "Źródła:\n",
    "- https://flothesof.github.io/2048-game.html\n",
    "- https://github.com/qwert12500/2048_rl"
   ],
   "id": "3968608721c635f"
  },
  {
   "metadata": {},
   "cell_type": "markdown",
   "source": "### Przykładowa rozgrywka",
   "id": "3bde61b966fd0fe1"
  },
  {
   "metadata": {
    "ExecuteTime": {
     "end_time": "2025-05-27T15:07:33.956322Z",
     "start_time": "2025-05-27T15:05:36.865876Z"
    }
   },
   "cell_type": "code",
   "source": [
    "from game2048.board2048 import Board2048\n",
    "\n",
    "def main_loop(b, direction):\n",
    "    new_board = b.move(direction)\n",
    "    moved = False\n",
    "    if (new_board == b.board).all():\n",
    "        # move is invalid\n",
    "        pass\n",
    "    else:\n",
    "        moved = True\n",
    "        b.board = new_board\n",
    "        b.fill_cell()\n",
    "    return moved\n",
    "\n",
    "game = Board2048()\n",
    "finish = False\n",
    "while not finish:\n",
    "  direction = int(input(\"please enter a direction: (0) Left, (1) Up, (2) Right, (3) Down\"))\n",
    "  if direction < 0 or direction > 3:\n",
    "    print(\"Not a valid input! Please enter a valid value (0/1/2/3)!\")\n",
    "    continue\n",
    "  moved = main_loop(game, direction)\n",
    "  if not moved:\n",
    "    print(\"Not a valid move! Nothing has changed.\")\n",
    "    continue\n",
    "  print(game.board)\n",
    "  print(game.total_score)\n",
    "  finish = game.is_game_over()\n",
    "print(\"Game Over!, Total Score is {}\".format(game.total_score))"
   ],
   "id": "afb35884a6fd5964",
   "outputs": [
    {
     "name": "stdout",
     "output_type": "stream",
     "text": [
      "[[2 0 0 0]\n",
      " [0 0 0 0]\n",
      " [2 0 0 0]\n",
      " [0 0 0 0]]\n",
      "0\n",
      "[[4 0 0 0]\n",
      " [0 2 0 0]\n",
      " [0 0 0 0]\n",
      " [0 0 0 0]]\n",
      "4\n",
      "[[0 0 0 4]\n",
      " [0 0 2 2]\n",
      " [0 0 0 0]\n",
      " [0 0 0 0]]\n",
      "4\n",
      "[[0 0 0 0]\n",
      " [0 0 0 0]\n",
      " [0 0 0 4]\n",
      " [2 0 2 2]]\n",
      "4\n",
      "Not a valid move! Nothing has changed.\n",
      "[[0 0 0 0]\n",
      " [0 0 2 0]\n",
      " [4 0 0 0]\n",
      " [4 2 0 0]]\n",
      "8\n",
      "[[0 0 0 0]\n",
      " [2 0 0 0]\n",
      " [4 0 2 0]\n",
      " [4 2 0 0]]\n",
      "8\n",
      "[[0 0 0 0]\n",
      " [0 0 0 0]\n",
      " [2 2 0 0]\n",
      " [8 2 2 0]]\n",
      "16\n",
      "[[0 0 0 0]\n",
      " [0 0 0 0]\n",
      " [2 0 0 0]\n",
      " [8 4 2 2]]\n",
      "20\n",
      "Not a valid move! Nothing has changed.\n",
      "[[0 0 0 0]\n",
      " [0 0 0 0]\n",
      " [2 2 0 0]\n",
      " [8 4 4 0]]\n",
      "24\n",
      "[[0 0 0 0]\n",
      " [0 0 0 0]\n",
      " [4 0 0 2]\n",
      " [8 8 0 0]]\n",
      "36\n",
      "[[ 2  0  0  0]\n",
      " [ 0  0  0  0]\n",
      " [ 4  2  0  0]\n",
      " [16  0  0  0]]\n",
      "52\n",
      "Not a valid move! Nothing has changed.\n"
     ]
    },
    {
     "ename": "KeyboardInterrupt",
     "evalue": "Interrupted by user",
     "output_type": "error",
     "traceback": [
      "\u001B[1;31m---------------------------------------------------------------------------\u001B[0m",
      "\u001B[1;31mKeyboardInterrupt\u001B[0m                         Traceback (most recent call last)",
      "Cell \u001B[1;32mIn[8], line 18\u001B[0m\n\u001B[0;32m     16\u001B[0m finish \u001B[38;5;241m=\u001B[39m \u001B[38;5;28;01mFalse\u001B[39;00m\n\u001B[0;32m     17\u001B[0m \u001B[38;5;28;01mwhile\u001B[39;00m \u001B[38;5;129;01mnot\u001B[39;00m finish:\n\u001B[1;32m---> 18\u001B[0m   direction \u001B[38;5;241m=\u001B[39m \u001B[38;5;28mint\u001B[39m(\u001B[38;5;28;43minput\u001B[39;49m\u001B[43m(\u001B[49m\u001B[38;5;124;43m\"\u001B[39;49m\u001B[38;5;124;43mplease enter a direction: (0) Left, (1) Up, (2) Right, (3) Down\u001B[39;49m\u001B[38;5;124;43m\"\u001B[39;49m\u001B[43m)\u001B[49m)\n\u001B[0;32m     19\u001B[0m   \u001B[38;5;28;01mif\u001B[39;00m direction \u001B[38;5;241m<\u001B[39m \u001B[38;5;241m0\u001B[39m \u001B[38;5;129;01mor\u001B[39;00m direction \u001B[38;5;241m>\u001B[39m \u001B[38;5;241m3\u001B[39m:\n\u001B[0;32m     20\u001B[0m     \u001B[38;5;28mprint\u001B[39m(\u001B[38;5;124m\"\u001B[39m\u001B[38;5;124mNot a valid input! Please enter a valid value (0/1/2/3)!\u001B[39m\u001B[38;5;124m\"\u001B[39m)\n",
      "File \u001B[1;32m~\\RL\\GamesWithRL\\.venv\\lib\\site-packages\\ipykernel\\kernelbase.py:1282\u001B[0m, in \u001B[0;36mKernel.raw_input\u001B[1;34m(self, prompt)\u001B[0m\n\u001B[0;32m   1280\u001B[0m     msg \u001B[38;5;241m=\u001B[39m \u001B[38;5;124m\"\u001B[39m\u001B[38;5;124mraw_input was called, but this frontend does not support input requests.\u001B[39m\u001B[38;5;124m\"\u001B[39m\n\u001B[0;32m   1281\u001B[0m     \u001B[38;5;28;01mraise\u001B[39;00m StdinNotImplementedError(msg)\n\u001B[1;32m-> 1282\u001B[0m \u001B[38;5;28;01mreturn\u001B[39;00m \u001B[38;5;28;43mself\u001B[39;49m\u001B[38;5;241;43m.\u001B[39;49m\u001B[43m_input_request\u001B[49m\u001B[43m(\u001B[49m\n\u001B[0;32m   1283\u001B[0m \u001B[43m    \u001B[49m\u001B[38;5;28;43mstr\u001B[39;49m\u001B[43m(\u001B[49m\u001B[43mprompt\u001B[49m\u001B[43m)\u001B[49m\u001B[43m,\u001B[49m\n\u001B[0;32m   1284\u001B[0m \u001B[43m    \u001B[49m\u001B[38;5;28;43mself\u001B[39;49m\u001B[38;5;241;43m.\u001B[39;49m\u001B[43m_parent_ident\u001B[49m\u001B[43m[\u001B[49m\u001B[38;5;124;43m\"\u001B[39;49m\u001B[38;5;124;43mshell\u001B[39;49m\u001B[38;5;124;43m\"\u001B[39;49m\u001B[43m]\u001B[49m\u001B[43m,\u001B[49m\n\u001B[0;32m   1285\u001B[0m \u001B[43m    \u001B[49m\u001B[38;5;28;43mself\u001B[39;49m\u001B[38;5;241;43m.\u001B[39;49m\u001B[43mget_parent\u001B[49m\u001B[43m(\u001B[49m\u001B[38;5;124;43m\"\u001B[39;49m\u001B[38;5;124;43mshell\u001B[39;49m\u001B[38;5;124;43m\"\u001B[39;49m\u001B[43m)\u001B[49m\u001B[43m,\u001B[49m\n\u001B[0;32m   1286\u001B[0m \u001B[43m    \u001B[49m\u001B[43mpassword\u001B[49m\u001B[38;5;241;43m=\u001B[39;49m\u001B[38;5;28;43;01mFalse\u001B[39;49;00m\u001B[43m,\u001B[49m\n\u001B[0;32m   1287\u001B[0m \u001B[43m\u001B[49m\u001B[43m)\u001B[49m\n",
      "File \u001B[1;32m~\\RL\\GamesWithRL\\.venv\\lib\\site-packages\\ipykernel\\kernelbase.py:1325\u001B[0m, in \u001B[0;36mKernel._input_request\u001B[1;34m(self, prompt, ident, parent, password)\u001B[0m\n\u001B[0;32m   1322\u001B[0m \u001B[38;5;28;01mexcept\u001B[39;00m \u001B[38;5;167;01mKeyboardInterrupt\u001B[39;00m:\n\u001B[0;32m   1323\u001B[0m     \u001B[38;5;66;03m# re-raise KeyboardInterrupt, to truncate traceback\u001B[39;00m\n\u001B[0;32m   1324\u001B[0m     msg \u001B[38;5;241m=\u001B[39m \u001B[38;5;124m\"\u001B[39m\u001B[38;5;124mInterrupted by user\u001B[39m\u001B[38;5;124m\"\u001B[39m\n\u001B[1;32m-> 1325\u001B[0m     \u001B[38;5;28;01mraise\u001B[39;00m \u001B[38;5;167;01mKeyboardInterrupt\u001B[39;00m(msg) \u001B[38;5;28;01mfrom\u001B[39;00m\u001B[38;5;250m \u001B[39m\u001B[38;5;28;01mNone\u001B[39;00m\n\u001B[0;32m   1326\u001B[0m \u001B[38;5;28;01mexcept\u001B[39;00m \u001B[38;5;167;01mException\u001B[39;00m:\n\u001B[0;32m   1327\u001B[0m     \u001B[38;5;28mself\u001B[39m\u001B[38;5;241m.\u001B[39mlog\u001B[38;5;241m.\u001B[39mwarning(\u001B[38;5;124m\"\u001B[39m\u001B[38;5;124mInvalid Message:\u001B[39m\u001B[38;5;124m\"\u001B[39m, exc_info\u001B[38;5;241m=\u001B[39m\u001B[38;5;28;01mTrue\u001B[39;00m)\n",
      "\u001B[1;31mKeyboardInterrupt\u001B[0m: Interrupted by user"
     ]
    }
   ],
   "execution_count": 8
  },
  {
   "metadata": {},
   "cell_type": "markdown",
   "source": [
    "## Carsassone\n",
    "\n",
    "Carcassone to popularna gra planszowa, polegająca na układaniu bloków z miastami, drogami oraz klasztorami.\n",
    "\n",
    "![](https://upload.wikimedia.org/wikipedia/commons/d/d7/Deskohran%C3%AD_08-10-05_006.jpg)\n",
    "\n",
    "Źródła:\n",
    "- https://github.com/wingedsheep/carcassonne"
   ],
   "id": "fb07a52c0d0628b9"
  },
  {
   "metadata": {},
   "cell_type": "markdown",
   "source": "### Przykładowa rozgrywka",
   "id": "20bd6ae6be26c278"
  },
  {
   "metadata": {
    "ExecuteTime": {
     "end_time": "2025-05-27T15:09:34.335601Z",
     "start_time": "2025-05-27T15:09:22.688307Z"
    }
   },
   "cell_type": "code",
   "source": [
    "game = CarcassonneGame(\n",
    "\tplayers=2,\n",
    "\ttile_sets=[TileSet.BASE, TileSet.THE_RIVER, TileSet.INNS_AND_CATHEDRALS],\n",
    "\tsupplementary_rules=[SupplementaryRule.ABBOTS, SupplementaryRule.FARMERS]\n",
    ")\n",
    "\n",
    "while not game.is_finished():\n",
    "    player: int = game.get_current_player()\n",
    "    valid_actions: [Action] = game.get_possible_actions()\n",
    "    action: Optional[Action] = random.choice(valid_actions)\n",
    "    if action is not None:\n",
    "        game.step(player, action)\n",
    "    game.render()\n",
    "\n",
    "cv2.destroyAllWindows()"
   ],
   "id": "a34714a5291f345f",
   "outputs": [
    {
     "name": "stdout",
     "output_type": "stream",
     "text": [
      "Road finished. Meeples: [0, 2]\n",
      "2 points for player 1\n",
      "Road finished. Meeples: [0, 0]\n",
      "Road finished. Meeples: [0, 1]\n",
      "2 points for player 1\n",
      "Road finished. Meeples: [1, 0]\n",
      "3 points for player 0\n",
      "Road finished. Meeples: [0, 0]\n",
      "Road finished. Meeples: [0, 0]\n",
      "Road finished. Meeples: [0, 1]\n",
      "3 points for player 1\n",
      "City finished. Meeples: [1, 0]\n",
      "4 points for player 0\n",
      "City finished. Meeples: [0, 0]\n",
      "City finished. Meeples: [0, 0]\n",
      "Road finished. Meeples: [0, 0]\n",
      "City finished. Meeples: [0, 0]\n",
      "City finished. Meeples: [0, 0]\n",
      "Collecting points for farm. Meeples: [2, 0]\n",
      "3 points for player 0\n",
      "Collecting points for unfinished chapel or flowers for player 0\n",
      "4 points for player 0\n",
      "Collecting points for unfinished city. Meeples: [1, 0]\n",
      "7 points for player 0\n",
      "Collecting points for unfinished road. Meeples: [1, 0]\n",
      "2 points for player 0\n",
      "Collecting points for unfinished city. Meeples: [1, 0]\n",
      "1 points for player 0\n",
      "Collecting points for unfinished road. Meeples: [1, 0]\n",
      "2 points for player 0\n",
      "Collecting points for unfinished city. Meeples: [1, 0]\n",
      "2 points for player 0\n",
      "Collecting points for farm. Meeples: [1, 0]\n",
      "0 points for player 0\n",
      "Collecting points for unfinished road. Meeples: [1, 0]\n",
      "2 points for player 0\n",
      "Collecting points for farm. Meeples: [0, 1]\n",
      "3 points for player 1\n",
      "Collecting points for unfinished city. Meeples: [0, 1]\n",
      "7 points for player 1\n",
      "Collecting points for farm. Meeples: [0, 1]\n",
      "0 points for player 1\n",
      "Collecting points for farm. Meeples: [0, 1]\n",
      "0 points for player 1\n",
      "Collecting points for farm. Meeples: [0, 1]\n",
      "0 points for player 1\n",
      "Collecting points for unfinished city. Meeples: [0, 1]\n",
      "3 points for player 1\n",
      "Collecting points for unfinished road. Meeples: [0, 2]\n",
      "3 points for player 1\n",
      "Collecting points for unfinished road. Meeples: [0, 1]\n",
      "3 points for player 1\n"
     ]
    }
   ],
   "execution_count": 4
  }
 ],
 "metadata": {
  "kernelspec": {
   "display_name": "Python 3",
   "language": "python",
   "name": "python3"
  },
  "language_info": {
   "codemirror_mode": {
    "name": "ipython",
    "version": 2
   },
   "file_extension": ".py",
   "mimetype": "text/x-python",
   "name": "python",
   "nbconvert_exporter": "python",
   "pygments_lexer": "ipython2",
   "version": "2.7.6"
  }
 },
 "nbformat": 4,
 "nbformat_minor": 5
}
